{
 "cells": [
  {
   "cell_type": "code",
   "execution_count": 1,
   "metadata": {},
   "outputs": [],
   "source": [
    "class Metric(object):\n",
    "    def __init__(self):\n",
    "        self.cnt = 0\n",
    "        self.h_1 = 0\n",
    "        self.h_3 = 0\n",
    "        self.h_10 = 0\n",
    "        self.mr = 0\n",
    "        self.mrr = 0\n",
    "\n",
    "    def _normalize(self):\n",
    "        return self.h_1 / self.cnt, self.h_3 / self.cnt, self.h_10 / self.cnt, self.mr / self.cnt, self.mrr / self.cnt\n",
    "\n",
    "    def __str__(self):\n",
    "        h_1, h_3, h_10, mr, mrr = self._normalize()\n",
    "        return f'\\nH@1: {h_1}\\nH@3: {h_3}\\nH@10: {h_10}\\nMR: {mr}\\nMRR: {mrr}\\n'\n",
    "\n",
    "    def __iter__(self):\n",
    "        h_1, h_3, h_10, mr, mrr = self._normalize()\n",
    "        yield 'metric/H@1', h_1\n",
    "        yield 'metric/H@3', h_3\n",
    "        yield 'metric/H@10', h_10\n",
    "        yield 'metric/MR', mr\n",
    "        yield 'metric/MRR', mrr\n",
    "\n",
    "    def update(self, r):\n",
    "        self.cnt += 1\n",
    "\n",
    "        if r < 2:\n",
    "            self.h_1 += 1\n",
    "        if r < 4:\n",
    "            self.h_3 += 1\n",
    "        if r < 11:\n",
    "            self.h_10 += 1\n",
    "\n",
    "        self.mr += r\n",
    "        self.mrr += 1.0 / r"
   ]
  },
  {
   "cell_type": "code",
   "execution_count": 11,
   "metadata": {},
   "outputs": [],
   "source": [
    "import pandas as pd\n",
    "\n",
    "tr = pd.read_csv('/Users/kahrabian/projects/KnowledgeGraphEmbedding/data/GitGraph_0.01/train.txt', sep='\\t', names=['s', 'r', 'o'])\n",
    "vd = pd.read_csv('/Users/kahrabian/projects/KnowledgeGraphEmbedding/data/GitGraph_0.01/valid.txt', sep='\\t', names=['s', 'r', 'o'])\n",
    "# ts = pd.read_csv('./data/split/test_s.txt', sep='\\t', header=None)"
   ]
  },
  {
   "cell_type": "code",
   "execution_count": 12,
   "metadata": {},
   "outputs": [
    {
     "data": {
      "text/html": [
       "<div>\n",
       "<style scoped>\n",
       "    .dataframe tbody tr th:only-of-type {\n",
       "        vertical-align: middle;\n",
       "    }\n",
       "\n",
       "    .dataframe tbody tr th {\n",
       "        vertical-align: top;\n",
       "    }\n",
       "\n",
       "    .dataframe thead th {\n",
       "        text-align: right;\n",
       "    }\n",
       "</style>\n",
       "<table border=\"1\" class=\"dataframe\">\n",
       "  <thead>\n",
       "    <tr style=\"text-align: right;\">\n",
       "      <th></th>\n",
       "      <th>s</th>\n",
       "      <th>r</th>\n",
       "      <th>o</th>\n",
       "    </tr>\n",
       "  </thead>\n",
       "  <tbody>\n",
       "    <tr>\n",
       "      <th>0</th>\n",
       "      <td>/issue/530835216</td>\n",
       "      <td>I_AO_C_R</td>\n",
       "      <td>/repo/111583593</td>\n",
       "    </tr>\n",
       "    <tr>\n",
       "      <th>1</th>\n",
       "      <td>/user/57339170</td>\n",
       "      <td>U_SO_O_P</td>\n",
       "      <td>/pr/353182479</td>\n",
       "    </tr>\n",
       "    <tr>\n",
       "      <th>2</th>\n",
       "      <td>/pr/342190922</td>\n",
       "      <td>P_AO_C_R</td>\n",
       "      <td>/repo/97622367</td>\n",
       "    </tr>\n",
       "    <tr>\n",
       "      <th>3</th>\n",
       "      <td>/pr/350973833</td>\n",
       "      <td>P_AO_C_R</td>\n",
       "      <td>/repo/134612364</td>\n",
       "    </tr>\n",
       "    <tr>\n",
       "      <th>4</th>\n",
       "      <td>/pr/352120599</td>\n",
       "      <td>P_AO_C_R</td>\n",
       "      <td>/repo/121470383</td>\n",
       "    </tr>\n",
       "  </tbody>\n",
       "</table>\n",
       "</div>"
      ],
      "text/plain": [
       "                  s         r                o\n",
       "0  /issue/530835216  I_AO_C_R  /repo/111583593\n",
       "1    /user/57339170  U_SO_O_P    /pr/353182479\n",
       "2     /pr/342190922  P_AO_C_R   /repo/97622367\n",
       "3     /pr/350973833  P_AO_C_R  /repo/134612364\n",
       "4     /pr/352120599  P_AO_C_R  /repo/121470383"
      ]
     },
     "execution_count": 12,
     "metadata": {},
     "output_type": "execute_result"
    }
   ],
   "source": [
    "tr.head(n=5)"
   ]
  },
  {
   "cell_type": "code",
   "execution_count": 6,
   "metadata": {},
   "outputs": [
    {
     "data": {
      "text/html": [
       "<div>\n",
       "<style scoped>\n",
       "    .dataframe tbody tr th:only-of-type {\n",
       "        vertical-align: middle;\n",
       "    }\n",
       "\n",
       "    .dataframe tbody tr th {\n",
       "        vertical-align: top;\n",
       "    }\n",
       "\n",
       "    .dataframe thead th {\n",
       "        text-align: right;\n",
       "    }\n",
       "</style>\n",
       "<table border=\"1\" class=\"dataframe\">\n",
       "  <thead>\n",
       "    <tr style=\"text-align: right;\">\n",
       "      <th></th>\n",
       "      <th>s</th>\n",
       "      <th>o</th>\n",
       "      <th>r</th>\n",
       "    </tr>\n",
       "  </thead>\n",
       "  <tbody>\n",
       "    <tr>\n",
       "      <th>0</th>\n",
       "      <td>/user/16148461</td>\n",
       "      <td>U_SE_C_I</td>\n",
       "      <td>/issue/539815053</td>\n",
       "    </tr>\n",
       "    <tr>\n",
       "      <th>1</th>\n",
       "      <td>/user/5367102</td>\n",
       "      <td>U_SE_C_I</td>\n",
       "      <td>/issue/537820918</td>\n",
       "    </tr>\n",
       "    <tr>\n",
       "      <th>2</th>\n",
       "      <td>/user/1215687</td>\n",
       "      <td>U_SE_C_I</td>\n",
       "      <td>/issue/536853169</td>\n",
       "    </tr>\n",
       "    <tr>\n",
       "      <th>3</th>\n",
       "      <td>/user/1804755</td>\n",
       "      <td>U_SE_C_I</td>\n",
       "      <td>/issue/544179986</td>\n",
       "    </tr>\n",
       "    <tr>\n",
       "      <th>4</th>\n",
       "      <td>/user/1088218</td>\n",
       "      <td>U_SE_C_I</td>\n",
       "      <td>/issue/480474808</td>\n",
       "    </tr>\n",
       "  </tbody>\n",
       "</table>\n",
       "</div>"
      ],
      "text/plain": [
       "                s         o                 r\n",
       "0  /user/16148461  U_SE_C_I  /issue/539815053\n",
       "1   /user/5367102  U_SE_C_I  /issue/537820918\n",
       "2   /user/1215687  U_SE_C_I  /issue/536853169\n",
       "3   /user/1804755  U_SE_C_I  /issue/544179986\n",
       "4   /user/1088218  U_SE_C_I  /issue/480474808"
      ]
     },
     "execution_count": 6,
     "metadata": {},
     "output_type": "execute_result"
    }
   ],
   "source": [
    "vd.head(n=5)"
   ]
  },
  {
   "cell_type": "code",
   "execution_count": 54,
   "metadata": {},
   "outputs": [
    {
     "name": "stdout",
     "output_type": "stream",
     "text": [
      "step 500: 0.16512284292770701\n",
      "step 1000: 0.16287390244015737\n",
      "step 1500: 0.16399924659711135\n",
      "step 2000: 0.1675902026728866\n",
      "step 2500: 0.16955860293241873\n",
      "step 3000: 0.1707500365874738\n",
      "step 3500: 0.17291796607278181\n",
      "step 4000: 0.17239775909940583\n",
      "step 4500: 0.1714797176302106\n",
      "step 5000: 0.17031431348523318\n",
      "step 5500: 0.16971576084995763\n",
      "step 6000: 0.16999367720012892\n",
      "step 6500: 0.17109797319810824\n",
      "step 7000: 0.17031209422738017\n",
      "step 7500: 0.17027657742814967\n",
      "step 8000: 0.16934902881813976\n",
      "step 8500: 0.16907404851531105\n",
      "step 9000: 0.16919872484982337\n",
      "step 9500: 0.1689779919209152\n",
      "step 10000: 0.1692373019501077\n",
      "step 10500: 0.16957417546238432\n",
      "step 11000: 0.1695840328604322\n",
      "step 11500: 0.16838988991476897\n",
      "step 12000: 0.16844790231545576\n",
      "step 12500: 0.16832241078667623\n",
      "invalid count: 741\n",
      "zero colabs: 18\n",
      "not available: 390\n",
      "expected mean accuracy: 0.16829708320288428\n"
     ]
    }
   ],
   "source": [
    "# Random user with prior interactions with the repo\n",
    "e = 0.0\n",
    "z_colab, na = 0, 0\n",
    "inv_cnt, cnt = 0, 0\n",
    "for i, x in enumerate(vd.values):\n",
    "    if (i + 1) % 500 == 0:\n",
    "        print(f'step {i + 1}:', e / (i + 1))\n",
    "    repos = tr[tr['s'] == x[2]]['o'].unique()\n",
    "    if len(repos) == 0:\n",
    "        inv_cnt += 1\n",
    "        continue\n",
    "    n_repo = tr[tr['o'] == repos[0]]\n",
    "    users = tr[tr['o'].isin(n_repo['s'].unique()) & tr['s'].str.startswith('/user/')]['s'].unique().tolist()\n",
    "    users += n_repo[n_repo['s'].str.startswith('/user/')]['s'].unique().tolist()\n",
    "    users = set(users)\n",
    "    if len(users) == 0:\n",
    "        z_colab += 1\n",
    "        continue\n",
    "    if x[0] not in users:\n",
    "        na += 1\n",
    "        continue\n",
    "    e += 1 / len(users)\n",
    "print(f'invalid count: {inv_cnt}')\n",
    "print(f'zero colabs: {z_colab}')\n",
    "print(f'not available: {na}')\n",
    "print(f'expected mean accuracy:', e / len(vd.values))"
   ]
  },
  {
   "cell_type": "code",
   "execution_count": 55,
   "metadata": {},
   "outputs": [
    {
     "name": "stdout",
     "output_type": "stream",
     "text": [
      "step 500: 0.1865768490517205\n",
      "step 1000: 0.1860779657181395\n",
      "step 1500: 0.1883122189513767\n",
      "step 2000: 0.19193953326320173\n",
      "step 2500: 0.19465405288374327\n",
      "step 3000: 0.19705403189337525\n",
      "step 3500: 0.19912944503039984\n",
      "step 4000: 0.19825975788621156\n",
      "step 4500: 0.19766685470760795\n",
      "step 5000: 0.19628987569957243\n",
      "step 5500: 0.1959485421590383\n",
      "step 6000: 0.19562718378384397\n",
      "step 6500: 0.1969190419897989\n",
      "step 7000: 0.19597380282918928\n",
      "step 7500: 0.19611378340355679\n",
      "step 8000: 0.1953225329622385\n",
      "step 8500: 0.1953177265255295\n",
      "step 9000: 0.19534458080891284\n",
      "step 9500: 0.19530767550329908\n",
      "step 10000: 0.19555007805892655\n",
      "step 10500: 0.19619111220329574\n",
      "step 11000: 0.19635763200186562\n",
      "step 11500: 0.19514823344808535\n",
      "step 12000: 0.19547770659414054\n",
      "step 12500: 0.1954125422158342\n",
      "invalid count: 741\n",
      "zero colabs: 25\n",
      "not available: 445\n",
      "expected mean accuracy: 0.19537137909165203\n"
     ]
    }
   ],
   "source": [
    "# Random user with prior interactions with the repo on an issue\n",
    "e = 0.0\n",
    "z_colab, na = 0, 0\n",
    "inv_cnt, cnt = 0, 0\n",
    "for i, x in enumerate(vd.values):\n",
    "    if (i + 1) % 500 == 0:\n",
    "        print(f'step {i + 1}:', e / (i + 1))\n",
    "    repos = tr[tr['s'] == x[2]]['o'].unique()\n",
    "    if len(repos) == 0:\n",
    "        inv_cnt += 1\n",
    "        continue\n",
    "    n_repo = tr[tr['o'] == repos[0]]\n",
    "    users = tr[tr['o'].isin(n_repo['s'].unique()) &\n",
    "               tr['o'].str.startswith('/issue/') &\n",
    "               tr['s'].str.startswith('/user/')]['s'].unique().tolist()\n",
    "    users += n_repo[n_repo['s'].str.startswith('/user/')]['s'].unique().tolist()\n",
    "    users = set(users)\n",
    "    if len(users) == 0:\n",
    "        z_colab += 1\n",
    "        continue\n",
    "    if x[0] not in users:\n",
    "        na += 1\n",
    "        continue\n",
    "    e += 1 / len(users)\n",
    "print(f'invalid count: {inv_cnt}')\n",
    "print(f'zero colabs: {z_colab}')\n",
    "print(f'not available: {na}')\n",
    "print(f'expected mean accuracy:', e / len(vd.values))"
   ]
  },
  {
   "cell_type": "code",
   "execution_count": 13,
   "metadata": {},
   "outputs": [],
   "source": [
    "ir = tr[tr['o'].str.startswith('/repo/') & \n",
    "        tr['s'].str.startswith('/issue/')].groupby('s')['o'].apply(lambda x: list(x)[0]).reset_index(name='repo')\n",
    "ir = ir.rename(columns={'s': 'issue'})"
   ]
  },
  {
   "cell_type": "code",
   "execution_count": 14,
   "metadata": {},
   "outputs": [
    {
     "data": {
      "text/html": [
       "<div>\n",
       "<style scoped>\n",
       "    .dataframe tbody tr th:only-of-type {\n",
       "        vertical-align: middle;\n",
       "    }\n",
       "\n",
       "    .dataframe tbody tr th {\n",
       "        vertical-align: top;\n",
       "    }\n",
       "\n",
       "    .dataframe thead th {\n",
       "        text-align: right;\n",
       "    }\n",
       "</style>\n",
       "<table border=\"1\" class=\"dataframe\">\n",
       "  <thead>\n",
       "    <tr style=\"text-align: right;\">\n",
       "      <th></th>\n",
       "      <th>issue</th>\n",
       "      <th>repo</th>\n",
       "    </tr>\n",
       "  </thead>\n",
       "  <tbody>\n",
       "    <tr>\n",
       "      <th>0</th>\n",
       "      <td>/issue/104939982</td>\n",
       "      <td>/repo/14005591</td>\n",
       "    </tr>\n",
       "    <tr>\n",
       "      <th>1</th>\n",
       "      <td>/issue/105811463</td>\n",
       "      <td>/repo/858127</td>\n",
       "    </tr>\n",
       "    <tr>\n",
       "      <th>2</th>\n",
       "      <td>/issue/106218162</td>\n",
       "      <td>/repo/33014811</td>\n",
       "    </tr>\n",
       "    <tr>\n",
       "      <th>3</th>\n",
       "      <td>/issue/108627670</td>\n",
       "      <td>/repo/2797951</td>\n",
       "    </tr>\n",
       "    <tr>\n",
       "      <th>4</th>\n",
       "      <td>/issue/108865671</td>\n",
       "      <td>/repo/3337027</td>\n",
       "    </tr>\n",
       "  </tbody>\n",
       "</table>\n",
       "</div>"
      ],
      "text/plain": [
       "              issue            repo\n",
       "0  /issue/104939982  /repo/14005591\n",
       "1  /issue/105811463    /repo/858127\n",
       "2  /issue/106218162  /repo/33014811\n",
       "3  /issue/108627670   /repo/2797951\n",
       "4  /issue/108865671   /repo/3337027"
      ]
     },
     "execution_count": 14,
     "metadata": {},
     "output_type": "execute_result"
    }
   ],
   "source": [
    "ir.head(n=5)"
   ]
  },
  {
   "cell_type": "code",
   "execution_count": 15,
   "metadata": {},
   "outputs": [],
   "source": [
    "ir_idx = ir.set_index('issue').to_dict()['repo']"
   ]
  },
  {
   "cell_type": "code",
   "execution_count": 16,
   "metadata": {},
   "outputs": [],
   "source": [
    "ri = tr[tr['o'].str.startswith('/repo/') & \n",
    "        tr['s'].str.startswith('/issue/')].groupby('o')['s'].apply(list).reset_index(name='issues')\n",
    "ri = ri.rename(columns={'o': 'repo'})"
   ]
  },
  {
   "cell_type": "code",
   "execution_count": 17,
   "metadata": {},
   "outputs": [
    {
     "data": {
      "text/html": [
       "<div>\n",
       "<style scoped>\n",
       "    .dataframe tbody tr th:only-of-type {\n",
       "        vertical-align: middle;\n",
       "    }\n",
       "\n",
       "    .dataframe tbody tr th {\n",
       "        vertical-align: top;\n",
       "    }\n",
       "\n",
       "    .dataframe thead th {\n",
       "        text-align: right;\n",
       "    }\n",
       "</style>\n",
       "<table border=\"1\" class=\"dataframe\">\n",
       "  <thead>\n",
       "    <tr style=\"text-align: right;\">\n",
       "      <th></th>\n",
       "      <th>repo</th>\n",
       "      <th>issues</th>\n",
       "    </tr>\n",
       "  </thead>\n",
       "  <tbody>\n",
       "    <tr>\n",
       "      <th>0</th>\n",
       "      <td>/repo/100035906</td>\n",
       "      <td>[/issue/541292435, /issue/535848839, /issue/53...</td>\n",
       "    </tr>\n",
       "    <tr>\n",
       "      <th>1</th>\n",
       "      <td>/repo/10003820</td>\n",
       "      <td>[/issue/536922025, /issue/286717827, /issue/28...</td>\n",
       "    </tr>\n",
       "    <tr>\n",
       "      <th>2</th>\n",
       "      <td>/repo/100038377</td>\n",
       "      <td>[/issue/534999725, /issue/536421216, /issue/53...</td>\n",
       "    </tr>\n",
       "    <tr>\n",
       "      <th>3</th>\n",
       "      <td>/repo/100052573</td>\n",
       "      <td>[/issue/532553046, /issue/536822958, /issue/53...</td>\n",
       "    </tr>\n",
       "    <tr>\n",
       "      <th>4</th>\n",
       "      <td>/repo/100059061</td>\n",
       "      <td>[/issue/463842454, /issue/533439255, /issue/53...</td>\n",
       "    </tr>\n",
       "  </tbody>\n",
       "</table>\n",
       "</div>"
      ],
      "text/plain": [
       "              repo                                             issues\n",
       "0  /repo/100035906  [/issue/541292435, /issue/535848839, /issue/53...\n",
       "1   /repo/10003820  [/issue/536922025, /issue/286717827, /issue/28...\n",
       "2  /repo/100038377  [/issue/534999725, /issue/536421216, /issue/53...\n",
       "3  /repo/100052573  [/issue/532553046, /issue/536822958, /issue/53...\n",
       "4  /repo/100059061  [/issue/463842454, /issue/533439255, /issue/53..."
      ]
     },
     "execution_count": 17,
     "metadata": {},
     "output_type": "execute_result"
    }
   ],
   "source": [
    "ri.head(n=5)"
   ]
  },
  {
   "cell_type": "code",
   "execution_count": 18,
   "metadata": {},
   "outputs": [],
   "source": [
    "iu = tr[tr['s'].str.startswith('/user/') & \n",
    "        tr['r'].str.startswith('U_SE_C_I') &\n",
    "        tr['o'].str.startswith('/issue/')].groupby('o')['s'].apply(list).reset_index(name='users')\n",
    "iu = iu.rename(columns={'o': 'issue'})"
   ]
  },
  {
   "cell_type": "code",
   "execution_count": 19,
   "metadata": {},
   "outputs": [
    {
     "data": {
      "text/html": [
       "<div>\n",
       "<style scoped>\n",
       "    .dataframe tbody tr th:only-of-type {\n",
       "        vertical-align: middle;\n",
       "    }\n",
       "\n",
       "    .dataframe tbody tr th {\n",
       "        vertical-align: top;\n",
       "    }\n",
       "\n",
       "    .dataframe thead th {\n",
       "        text-align: right;\n",
       "    }\n",
       "</style>\n",
       "<table border=\"1\" class=\"dataframe\">\n",
       "  <thead>\n",
       "    <tr style=\"text-align: right;\">\n",
       "      <th></th>\n",
       "      <th>issue</th>\n",
       "      <th>users</th>\n",
       "    </tr>\n",
       "  </thead>\n",
       "  <tbody>\n",
       "    <tr>\n",
       "      <th>0</th>\n",
       "      <td>/issue/108627670</td>\n",
       "      <td>[/user/383198]</td>\n",
       "    </tr>\n",
       "    <tr>\n",
       "      <th>1</th>\n",
       "      <td>/issue/114742518</td>\n",
       "      <td>[/user/202799]</td>\n",
       "    </tr>\n",
       "    <tr>\n",
       "      <th>2</th>\n",
       "      <td>/issue/115847098</td>\n",
       "      <td>[/user/11417]</td>\n",
       "    </tr>\n",
       "    <tr>\n",
       "      <th>3</th>\n",
       "      <td>/issue/120861497</td>\n",
       "      <td>[/user/606517]</td>\n",
       "    </tr>\n",
       "    <tr>\n",
       "      <th>4</th>\n",
       "      <td>/issue/122054030</td>\n",
       "      <td>[/user/214010]</td>\n",
       "    </tr>\n",
       "  </tbody>\n",
       "</table>\n",
       "</div>"
      ],
      "text/plain": [
       "              issue           users\n",
       "0  /issue/108627670  [/user/383198]\n",
       "1  /issue/114742518  [/user/202799]\n",
       "2  /issue/115847098   [/user/11417]\n",
       "3  /issue/120861497  [/user/606517]\n",
       "4  /issue/122054030  [/user/214010]"
      ]
     },
     "execution_count": 19,
     "metadata": {},
     "output_type": "execute_result"
    }
   ],
   "source": [
    "iu.head(n=5)"
   ]
  },
  {
   "cell_type": "code",
   "execution_count": 20,
   "metadata": {},
   "outputs": [],
   "source": [
    "iu_idx = iu.set_index('issue').to_dict()['users']"
   ]
  },
  {
   "cell_type": "code",
   "execution_count": 21,
   "metadata": {
    "scrolled": true
   },
   "outputs": [],
   "source": [
    "from collections import Counter\n",
    "from itertools import chain\n",
    "\n",
    "ri['users'] = ri.issues.apply(lambda x: list(map(lambda y: y[0], Counter(chain.from_iterable([iu_idx.get(z, []) for z in x])).most_common())))"
   ]
  },
  {
   "cell_type": "code",
   "execution_count": 22,
   "metadata": {},
   "outputs": [
    {
     "data": {
      "text/html": [
       "<div>\n",
       "<style scoped>\n",
       "    .dataframe tbody tr th:only-of-type {\n",
       "        vertical-align: middle;\n",
       "    }\n",
       "\n",
       "    .dataframe tbody tr th {\n",
       "        vertical-align: top;\n",
       "    }\n",
       "\n",
       "    .dataframe thead th {\n",
       "        text-align: right;\n",
       "    }\n",
       "</style>\n",
       "<table border=\"1\" class=\"dataframe\">\n",
       "  <thead>\n",
       "    <tr style=\"text-align: right;\">\n",
       "      <th></th>\n",
       "      <th>repo</th>\n",
       "      <th>issues</th>\n",
       "      <th>users</th>\n",
       "    </tr>\n",
       "  </thead>\n",
       "  <tbody>\n",
       "    <tr>\n",
       "      <th>0</th>\n",
       "      <td>/repo/100035906</td>\n",
       "      <td>[/issue/541292435, /issue/535848839, /issue/53...</td>\n",
       "      <td>[/user/36424503]</td>\n",
       "    </tr>\n",
       "    <tr>\n",
       "      <th>1</th>\n",
       "      <td>/repo/10003820</td>\n",
       "      <td>[/issue/536922025, /issue/286717827, /issue/28...</td>\n",
       "      <td>[/user/619500, /user/500841]</td>\n",
       "    </tr>\n",
       "    <tr>\n",
       "      <th>2</th>\n",
       "      <td>/repo/100038377</td>\n",
       "      <td>[/issue/534999725, /issue/536421216, /issue/53...</td>\n",
       "      <td>[/user/20436557]</td>\n",
       "    </tr>\n",
       "    <tr>\n",
       "      <th>3</th>\n",
       "      <td>/repo/100052573</td>\n",
       "      <td>[/issue/532553046, /issue/536822958, /issue/53...</td>\n",
       "      <td>[/user/5481178, /user/58055, /user/4175918, /u...</td>\n",
       "    </tr>\n",
       "    <tr>\n",
       "      <th>4</th>\n",
       "      <td>/repo/100059061</td>\n",
       "      <td>[/issue/463842454, /issue/533439255, /issue/53...</td>\n",
       "      <td>[/user/6392944]</td>\n",
       "    </tr>\n",
       "  </tbody>\n",
       "</table>\n",
       "</div>"
      ],
      "text/plain": [
       "              repo                                             issues  \\\n",
       "0  /repo/100035906  [/issue/541292435, /issue/535848839, /issue/53...   \n",
       "1   /repo/10003820  [/issue/536922025, /issue/286717827, /issue/28...   \n",
       "2  /repo/100038377  [/issue/534999725, /issue/536421216, /issue/53...   \n",
       "3  /repo/100052573  [/issue/532553046, /issue/536822958, /issue/53...   \n",
       "4  /repo/100059061  [/issue/463842454, /issue/533439255, /issue/53...   \n",
       "\n",
       "                                               users  \n",
       "0                                   [/user/36424503]  \n",
       "1                       [/user/619500, /user/500841]  \n",
       "2                                   [/user/20436557]  \n",
       "3  [/user/5481178, /user/58055, /user/4175918, /u...  \n",
       "4                                    [/user/6392944]  "
      ]
     },
     "execution_count": 22,
     "metadata": {},
     "output_type": "execute_result"
    }
   ],
   "source": [
    "ri.head(n=5)"
   ]
  },
  {
   "cell_type": "code",
   "execution_count": 23,
   "metadata": {},
   "outputs": [],
   "source": [
    "iu = ir.merge(ri, on='repo', how='right')[['issue', 'users']]"
   ]
  },
  {
   "cell_type": "code",
   "execution_count": 24,
   "metadata": {},
   "outputs": [
    {
     "data": {
      "text/html": [
       "<div>\n",
       "<style scoped>\n",
       "    .dataframe tbody tr th:only-of-type {\n",
       "        vertical-align: middle;\n",
       "    }\n",
       "\n",
       "    .dataframe tbody tr th {\n",
       "        vertical-align: top;\n",
       "    }\n",
       "\n",
       "    .dataframe thead th {\n",
       "        text-align: right;\n",
       "    }\n",
       "</style>\n",
       "<table border=\"1\" class=\"dataframe\">\n",
       "  <thead>\n",
       "    <tr style=\"text-align: right;\">\n",
       "      <th></th>\n",
       "      <th>issue</th>\n",
       "      <th>users</th>\n",
       "    </tr>\n",
       "  </thead>\n",
       "  <tbody>\n",
       "    <tr>\n",
       "      <th>0</th>\n",
       "      <td>/issue/104939982</td>\n",
       "      <td>[/user/6207635, /user/673121]</td>\n",
       "    </tr>\n",
       "    <tr>\n",
       "      <th>1</th>\n",
       "      <td>/issue/532937421</td>\n",
       "      <td>[/user/6207635, /user/673121]</td>\n",
       "    </tr>\n",
       "    <tr>\n",
       "      <th>2</th>\n",
       "      <td>/issue/537599668</td>\n",
       "      <td>[/user/6207635, /user/673121]</td>\n",
       "    </tr>\n",
       "    <tr>\n",
       "      <th>3</th>\n",
       "      <td>/issue/540607914</td>\n",
       "      <td>[/user/6207635, /user/673121]</td>\n",
       "    </tr>\n",
       "    <tr>\n",
       "      <th>4</th>\n",
       "      <td>/issue/105811463</td>\n",
       "      <td>[/user/953992, /user/13159005, /user/10647082,...</td>\n",
       "    </tr>\n",
       "  </tbody>\n",
       "</table>\n",
       "</div>"
      ],
      "text/plain": [
       "              issue                                              users\n",
       "0  /issue/104939982                      [/user/6207635, /user/673121]\n",
       "1  /issue/532937421                      [/user/6207635, /user/673121]\n",
       "2  /issue/537599668                      [/user/6207635, /user/673121]\n",
       "3  /issue/540607914                      [/user/6207635, /user/673121]\n",
       "4  /issue/105811463  [/user/953992, /user/13159005, /user/10647082,..."
      ]
     },
     "execution_count": 24,
     "metadata": {},
     "output_type": "execute_result"
    }
   ],
   "source": [
    "iu.head(n=5)"
   ]
  },
  {
   "cell_type": "code",
   "execution_count": 25,
   "metadata": {},
   "outputs": [],
   "source": [
    "iu_idx = iu.set_index('issue').to_dict()['users']"
   ]
  },
  {
   "cell_type": "code",
   "execution_count": 26,
   "metadata": {},
   "outputs": [],
   "source": [
    "tu = len(tr[tr['s'].str.startswith('/user/')]['s'].unique())"
   ]
  },
  {
   "cell_type": "code",
   "execution_count": 27,
   "metadata": {},
   "outputs": [
    {
     "name": "stdout",
     "output_type": "stream",
     "text": [
      "invalid count: 275\n",
      "zero colabs: 353\n",
      "not available: 820\n",
      "Metrics: \n",
      "H@1: 0.4749887336638125\n",
      "H@3: 0.6018476791347454\n",
      "H@10: 0.6559260928346102\n",
      "MR: 5359.491888237945\n",
      "MRR: 0.5440519219832841\n",
      "\n"
     ]
    }
   ],
   "source": [
    "# Random user with prior interactions with the repo on an issue\n",
    "mtr = Metric()\n",
    "z_u, na, inv_cnt = 0, 0, 0\n",
    "for i, x in enumerate(vd.values):\n",
    "    repo = ir_idx.get(x[2], None)\n",
    "    if repo is None:\n",
    "        inv_cnt += 1\n",
    "        mtr.update(tu // 2)\n",
    "        continue\n",
    "    users = iu_idx.get(x[2], [])\n",
    "    if len(users) == 0:\n",
    "        z_u += 1\n",
    "        mtr.update(tu // 2)\n",
    "        continue\n",
    "    if x[0] not in users:\n",
    "        na += 1\n",
    "        mtr.update(tu // 2)\n",
    "        continue\n",
    "    r = users.index(x[0]) + 1\n",
    "    mtr.update(r)\n",
    "print(f'invalid count: {inv_cnt}')\n",
    "print(f'zero colabs: {z_u}')\n",
    "print(f'not available: {na}')\n",
    "print(f'Metrics:', mtr)"
   ]
  },
  {
   "cell_type": "code",
   "execution_count": 6,
   "metadata": {},
   "outputs": [],
   "source": [
    "import pandas as pd\n",
    "\n",
    "tr = pd.read_csv('/Users/kahrabian/projects/KnowledgeGraphEmbedding/data/GitGraph_T_0.01/train.txt', sep='\\t', names=['s', 'r', 'o', 't'])"
   ]
  },
  {
   "cell_type": "code",
   "execution_count": 7,
   "metadata": {},
   "outputs": [
    {
     "data": {
      "text/html": [
       "<div>\n",
       "<style scoped>\n",
       "    .dataframe tbody tr th:only-of-type {\n",
       "        vertical-align: middle;\n",
       "    }\n",
       "\n",
       "    .dataframe tbody tr th {\n",
       "        vertical-align: top;\n",
       "    }\n",
       "\n",
       "    .dataframe thead th {\n",
       "        text-align: right;\n",
       "    }\n",
       "</style>\n",
       "<table border=\"1\" class=\"dataframe\">\n",
       "  <thead>\n",
       "    <tr style=\"text-align: right;\">\n",
       "      <th></th>\n",
       "      <th>s</th>\n",
       "      <th>r</th>\n",
       "      <th>o</th>\n",
       "      <th>t</th>\n",
       "    </tr>\n",
       "  </thead>\n",
       "  <tbody>\n",
       "    <tr>\n",
       "      <th>0</th>\n",
       "      <td>/user/2072976</td>\n",
       "      <td>U_SO_O_P</td>\n",
       "      <td>/pr/352015223</td>\n",
       "      <td>1576101177</td>\n",
       "    </tr>\n",
       "    <tr>\n",
       "      <th>1</th>\n",
       "      <td>/user/12582312</td>\n",
       "      <td>U_SO_O_P</td>\n",
       "      <td>/pr/350536299</td>\n",
       "      <td>1575889392</td>\n",
       "    </tr>\n",
       "    <tr>\n",
       "      <th>2</th>\n",
       "      <td>/issue/536626106</td>\n",
       "      <td>I_AO_O_R</td>\n",
       "      <td>/repo/199332790</td>\n",
       "      <td>1576118015</td>\n",
       "    </tr>\n",
       "  </tbody>\n",
       "</table>\n",
       "</div>"
      ],
      "text/plain": [
       "                  s         r                o           t\n",
       "0     /user/2072976  U_SO_O_P    /pr/352015223  1576101177\n",
       "1    /user/12582312  U_SO_O_P    /pr/350536299  1575889392\n",
       "2  /issue/536626106  I_AO_O_R  /repo/199332790  1576118015"
      ]
     },
     "execution_count": 7,
     "metadata": {},
     "output_type": "execute_result"
    }
   ],
   "source": [
    "tr.head(n=3)"
   ]
  },
  {
   "cell_type": "code",
   "execution_count": 85,
   "metadata": {},
   "outputs": [],
   "source": [
    "import os\n",
    "\n",
    "args_data_path = '/Users/kahrabian/projects/KnowledgeGraphEmbedding/data/GitGraph_T_0.01'\n",
    "\n",
    "train_data = pd.read_csv(os.path.join(args_data_path, 'train.txt'), sep='\\t', names=['s', 'r', 'o', 't'])\n",
    "\n",
    "repo_entity = train_data[train_data['o'].str.startswith('/repo/')][['o', 's']]\n",
    "repo_entity = repo_entity.rename(columns={'o': 'repo', 's': 'entity'})\n",
    "\n",
    "entity_users = train_data[train_data['s'].str.startswith('/user/')].groupby('o')['s'].apply(list)\n",
    "entity_users = entity_users.reset_index(name='users').rename(columns={'o': 'entity'})\n",
    "\n",
    "repo_users = repo_entity.merge(entity_users, on='entity', how='left')[['repo', 'users']]\n",
    "repo_users['users'] = repo_users.users.apply(lambda x: x if type(x) == list else [])\n",
    "repo_users = repo_users.groupby('repo')['users'].apply(lambda x: list(chain.from_iterable(x)))\n",
    "repo_users = repo_users.reset_index(name='users')\n",
    "\n",
    "valid_data = pd.read_csv(os.path.join(args_data_path, 'valid.txt'), sep='\\t', names=['s', 'r', 'o', 't'])\n",
    "test_data = pd.read_csv(os.path.join(args_data_path, 'test.txt'), sep='\\t', names=['s', 'r', 'o', 't'])\n",
    "all_data = pd.concat([train_data, valid_data, test_data])\n",
    "\n",
    "issue_repo = all_data[all_data['o'].str.startswith('/repo/') & all_data['s'].str.startswith('/issue/')]\n",
    "issue_repo = issue_repo.groupby('s')['o'].apply(lambda x: list(x)[0]).reset_index(name='repo')\n",
    "issue_repo = issue_repo.rename(columns={'s': 'issue'})\n",
    "\n",
    "issue_users = issue_repo.merge(repo_users, on='repo', how='left')[['issue', 'users']]\n",
    "issue_users_idx = issue_users.set_index('issue').to_dict()['users']"
   ]
  },
  {
   "cell_type": "code",
   "execution_count": 93,
   "metadata": {},
   "outputs": [],
   "source": [
    "for r in issue_repo.issue:\n",
    "    if r == '/issue/534536236':\n",
    "        print(r)\n",
    "# issue_repo.issue.apply(lambda x: print(x) if x == '/issue/534536236' else None)"
   ]
  },
  {
   "cell_type": "code",
   "execution_count": 87,
   "metadata": {},
   "outputs": [
    {
     "ename": "KeyError",
     "evalue": "'/issue/534536236'",
     "output_type": "error",
     "traceback": [
      "\u001b[0;31m---------------------------------------------------------------------------\u001b[0m",
      "\u001b[0;31mKeyError\u001b[0m                                  Traceback (most recent call last)",
      "\u001b[0;32m<ipython-input-87-2b62ca6540d7>\u001b[0m in \u001b[0;36m<module>\u001b[0;34m\u001b[0m\n\u001b[0;32m----> 1\u001b[0;31m \u001b[0missue_users_idx\u001b[0m\u001b[0;34m[\u001b[0m\u001b[0;34m'/issue/534536236'\u001b[0m\u001b[0;34m]\u001b[0m\u001b[0;34m\u001b[0m\u001b[0;34m\u001b[0m\u001b[0m\n\u001b[0m",
      "\u001b[0;31mKeyError\u001b[0m: '/issue/534536236'"
     ]
    }
   ],
   "source": [
    "issue_users_idx['/issue/534536236']"
   ]
  },
  {
   "cell_type": "code",
   "execution_count": null,
   "metadata": {},
   "outputs": [],
   "source": []
  }
 ],
 "metadata": {
  "kernelspec": {
   "display_name": "Python 3",
   "language": "python",
   "name": "python3"
  },
  "language_info": {
   "codemirror_mode": {
    "name": "ipython",
    "version": 3
   },
   "file_extension": ".py",
   "mimetype": "text/x-python",
   "name": "python",
   "nbconvert_exporter": "python",
   "pygments_lexer": "ipython3",
   "version": "3.7.6"
  }
 },
 "nbformat": 4,
 "nbformat_minor": 2
}
